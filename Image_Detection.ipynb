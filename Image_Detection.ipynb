{
  "cells": [
    {
      "cell_type": "markdown",
      "metadata": {
        "id": "view-in-github",
        "colab_type": "text"
      },
      "source": [
        "<a href=\"https://colab.research.google.com/github/tarunaditya91/Advanced-Computer-Vision-with-Python/blob/main/Image_Detection.ipynb\" target=\"_parent\"><img src=\"https://colab.research.google.com/assets/colab-badge.svg\" alt=\"Open In Colab\"/></a>"
      ]
    },
    {
      "cell_type": "code",
      "execution_count": null,
      "metadata": {
        "colab": {
          "base_uri": "https://localhost:8080/"
        },
        "id": "XUVLLIEloa6W",
        "outputId": "41cf4173-653e-44ee-9cca-8993b7ce2dac"
      },
      "outputs": [
        {
          "output_type": "stream",
          "name": "stdout",
          "text": [
            "Mon Apr 29 05:39:31 2024       \n",
            "+---------------------------------------------------------------------------------------+\n",
            "| NVIDIA-SMI 535.104.05             Driver Version: 535.104.05   CUDA Version: 12.2     |\n",
            "|-----------------------------------------+----------------------+----------------------+\n",
            "| GPU  Name                 Persistence-M | Bus-Id        Disp.A | Volatile Uncorr. ECC |\n",
            "| Fan  Temp   Perf          Pwr:Usage/Cap |         Memory-Usage | GPU-Util  Compute M. |\n",
            "|                                         |                      |               MIG M. |\n",
            "|=========================================+======================+======================|\n",
            "|   0  Tesla T4                       Off | 00000000:00:04.0 Off |                    0 |\n",
            "| N/A   49C    P8              10W /  70W |      0MiB / 15360MiB |      0%      Default |\n",
            "|                                         |                      |                  N/A |\n",
            "+-----------------------------------------+----------------------+----------------------+\n",
            "                                                                                         \n",
            "+---------------------------------------------------------------------------------------+\n",
            "| Processes:                                                                            |\n",
            "|  GPU   GI   CI        PID   Type   Process name                            GPU Memory |\n",
            "|        ID   ID                                                             Usage      |\n",
            "|=======================================================================================|\n",
            "|  No running processes found                                                           |\n",
            "+---------------------------------------------------------------------------------------+\n"
          ]
        }
      ],
      "source": [
        "!nvidia-smi"
      ]
    },
    {
      "cell_type": "code",
      "execution_count": null,
      "metadata": {
        "id": "LYWrtrghL9cK"
      },
      "outputs": [],
      "source": [
        "import tensorflow as tf"
      ]
    },
    {
      "cell_type": "code",
      "execution_count": null,
      "metadata": {
        "colab": {
          "base_uri": "https://localhost:8080/",
          "height": 35
        },
        "id": "VdoatcZcMDKK",
        "outputId": "b44879ed-e0fd-43ea-e1bb-6d5f6a35b6db"
      },
      "outputs": [
        {
          "output_type": "execute_result",
          "data": {
            "text/plain": [
              "'2.15.0'"
            ],
            "application/vnd.google.colaboratory.intrinsic+json": {
              "type": "string"
            }
          },
          "metadata": {},
          "execution_count": 3
        }
      ],
      "source": [
        "tf.__version__\n"
      ]
    },
    {
      "cell_type": "code",
      "execution_count": null,
      "metadata": {
        "colab": {
          "base_uri": "https://localhost:8080/",
          "height": 35
        },
        "id": "VWXClRBhNyD3",
        "outputId": "cd4a724b-0352-4fbc-f1aa-dbce41218a8e"
      },
      "outputs": [
        {
          "output_type": "execute_result",
          "data": {
            "text/plain": [
              "'/content'"
            ],
            "application/vnd.google.colaboratory.intrinsic+json": {
              "type": "string"
            }
          },
          "metadata": {},
          "execution_count": 4
        }
      ],
      "source": [
        "%pwd"
      ]
    },
    {
      "cell_type": "code",
      "execution_count": null,
      "metadata": {
        "colab": {
          "base_uri": "https://localhost:8080/"
        },
        "id": "ZQvlCo_iMGwm",
        "outputId": "28d7e0d3-5f1b-42e5-9955-1faad2576e91"
      },
      "outputs": [
        {
          "output_type": "stream",
          "name": "stdout",
          "text": [
            "/content/drive/MyDrive/drive for image_detction\n"
          ]
        }
      ],
      "source": [
        "%cd /content/drive/MyDrive/drive for image_detction"
      ]
    },
    {
      "cell_type": "code",
      "execution_count": null,
      "metadata": {
        "colab": {
          "base_uri": "https://localhost:8080/"
        },
        "id": "jrhFdD9HNwXK",
        "outputId": "9f7f7fa8-8214-4cdd-8125-d26257d440b9"
      },
      "outputs": [
        {
          "output_type": "stream",
          "name": "stdout",
          "text": [
            "\u001b[0m\u001b[01;34mtest_set\u001b[0m/  \u001b[01;34mtraining_set\u001b[0m/\n"
          ]
        }
      ],
      "source": [
        "%ls\n"
      ]
    },
    {
      "cell_type": "code",
      "execution_count": null,
      "metadata": {
        "colab": {
          "base_uri": "https://localhost:8080/",
          "height": 35
        },
        "id": "Jw3rk7TpMqMQ",
        "outputId": "057bc34a-13f0-4c31-f99f-79b7800cad4d"
      },
      "outputs": [
        {
          "output_type": "execute_result",
          "data": {
            "text/plain": [
              "'/content/drive/MyDrive/drive for image_detction'"
            ],
            "application/vnd.google.colaboratory.intrinsic+json": {
              "type": "string"
            }
          },
          "metadata": {},
          "execution_count": 7
        }
      ],
      "source": [
        " %pwd"
      ]
    },
    {
      "cell_type": "code",
      "execution_count": null,
      "metadata": {
        "id": "ZFafp4kpcsek"
      },
      "outputs": [],
      "source": [
        "import numpy as np\n",
        "from glob import glob\n",
        "from tensorflow.keras.layers import Input, Lambda, Dense, Flatten\n",
        "from tensorflow.keras.models import Model, Sequential\n",
        "from tensorflow.keras.applications.vgg16 import VGG16\n",
        "from tensorflow.keras.preprocessing.image import ImageDataGenerator, load_img\n",
        "\n"
      ]
    },
    {
      "cell_type": "code",
      "execution_count": null,
      "metadata": {
        "colab": {
          "base_uri": "https://localhost:8080/"
        },
        "id": "nNj-j5IdJ3LT",
        "outputId": "b34994f7-019a-4f18-e806-2131dc6468ae"
      },
      "outputs": [
        {
          "output_type": "stream",
          "name": "stdout",
          "text": [
            "\u001b[0m\u001b[01;34mtest_set\u001b[0m/  \u001b[01;34mtraining_set\u001b[0m/\n"
          ]
        }
      ],
      "source": [
        "%ls"
      ]
    },
    {
      "cell_type": "code",
      "execution_count": null,
      "metadata": {
        "id": "eXfNgnAWGi3L"
      },
      "outputs": [],
      "source": [
        "IMAGES_SIZE=[224,224]\n",
        "\n",
        "train_path=\"training_set\"\n",
        "test_path=\"test_set\""
      ]
    },
    {
      "cell_type": "code",
      "execution_count": null,
      "metadata": {
        "id": "T-tKs0GvHov0"
      },
      "outputs": [],
      "source": [
        "a=IMAGES_SIZE+[3]"
      ]
    },
    {
      "cell_type": "code",
      "execution_count": null,
      "metadata": {
        "id": "cvBiJ5mOG-Oe",
        "colab": {
          "base_uri": "https://localhost:8080/"
        },
        "outputId": "bcf23f98-6d6d-4e93-bff2-11d50d99616f"
      },
      "outputs": [
        {
          "output_type": "stream",
          "name": "stdout",
          "text": [
            "Downloading data from https://storage.googleapis.com/tensorflow/keras-applications/vgg16/vgg16_weights_tf_dim_ordering_tf_kernels_notop.h5\n",
            "58889256/58889256 [==============================] - 0s 0us/step\n"
          ]
        }
      ],
      "source": [
        "vgg16=VGG16(input_shape = IMAGES_SIZE + [3],weights=\"imagenet\",include_top=False)"
      ]
    },
    {
      "cell_type": "code",
      "execution_count": null,
      "metadata": {
        "colab": {
          "base_uri": "https://localhost:8080/"
        },
        "id": "TXqF3lVPHg38",
        "outputId": "46184277-9241-4952-a5a8-ee3fd8cc6536"
      },
      "outputs": [
        {
          "output_type": "stream",
          "name": "stdout",
          "text": [
            "<keras.src.engine.input_layer.InputLayer object at 0x7a99c9fc1f00>\n",
            "<keras.src.layers.convolutional.conv2d.Conv2D object at 0x7a99c9fc3d30>\n",
            "<keras.src.layers.convolutional.conv2d.Conv2D object at 0x7a99ca07c4f0>\n",
            "<keras.src.layers.pooling.max_pooling2d.MaxPooling2D object at 0x7a99ca07d330>\n",
            "<keras.src.layers.convolutional.conv2d.Conv2D object at 0x7a99ca07dab0>\n",
            "<keras.src.layers.convolutional.conv2d.Conv2D object at 0x7a99ca07e200>\n",
            "<keras.src.layers.pooling.max_pooling2d.MaxPooling2D object at 0x7a99ca07f790>\n",
            "<keras.src.layers.convolutional.conv2d.Conv2D object at 0x7a99ca07efe0>\n",
            "<keras.src.layers.convolutional.conv2d.Conv2D object at 0x7a99ca07f0a0>\n",
            "<keras.src.layers.convolutional.conv2d.Conv2D object at 0x7a99c9724a30>\n",
            "<keras.src.layers.pooling.max_pooling2d.MaxPooling2D object at 0x7a99c97261d0>\n",
            "<keras.src.layers.convolutional.conv2d.Conv2D object at 0x7a99c9726410>\n",
            "<keras.src.layers.convolutional.conv2d.Conv2D object at 0x7a99c9726b30>\n",
            "<keras.src.layers.convolutional.conv2d.Conv2D object at 0x7a99c9727640>\n",
            "<keras.src.layers.pooling.max_pooling2d.MaxPooling2D object at 0x7a99ca07e110>\n",
            "<keras.src.layers.convolutional.conv2d.Conv2D object at 0x7a99ca07d570>\n",
            "<keras.src.layers.convolutional.conv2d.Conv2D object at 0x7a99c9726a70>\n",
            "<keras.src.layers.convolutional.conv2d.Conv2D object at 0x7a99c973c160>\n",
            "<keras.src.layers.pooling.max_pooling2d.MaxPooling2D object at 0x7a99c973e050>\n"
          ]
        }
      ],
      "source": [
        "for layer in vgg16.layers:\n",
        "  print(layer)"
      ]
    },
    {
      "cell_type": "code",
      "execution_count": null,
      "metadata": {
        "id": "SaT0xRrHNC5j"
      },
      "outputs": [],
      "source": [
        "for layer in vgg16.layers:\n",
        "  layer.trainable=False"
      ]
    },
    {
      "cell_type": "code",
      "execution_count": null,
      "metadata": {
        "colab": {
          "base_uri": "https://localhost:8080/"
        },
        "id": "XDG0qmpzNXzZ",
        "outputId": "15bcf0e9-a8c4-4d37-be54-23a51e0ea9c1"
      },
      "outputs": [
        {
          "output_type": "stream",
          "name": "stdout",
          "text": [
            "input_1 False\n",
            "block1_conv1 False\n",
            "block1_conv2 False\n",
            "block1_pool False\n",
            "block2_conv1 False\n",
            "block2_conv2 False\n",
            "block2_pool False\n",
            "block3_conv1 False\n",
            "block3_conv2 False\n",
            "block3_conv3 False\n",
            "block3_pool False\n",
            "block4_conv1 False\n",
            "block4_conv2 False\n",
            "block4_conv3 False\n",
            "block4_pool False\n",
            "block5_conv1 False\n",
            "block5_conv2 False\n",
            "block5_conv3 False\n",
            "block5_pool False\n"
          ]
        }
      ],
      "source": [
        "for layer in vgg16.layers:\n",
        "  print(layer.name,layer.trainable)"
      ]
    },
    {
      "cell_type": "code",
      "execution_count": null,
      "metadata": {
        "colab": {
          "base_uri": "https://localhost:8080/"
        },
        "id": "t2ZCqdxZNkl_",
        "outputId": "78afcbc9-7b4b-418f-bcea-8697c22c3e09"
      },
      "outputs": [
        {
          "output_type": "stream",
          "name": "stdout",
          "text": [
            "Model: \"vgg16\"\n",
            "_________________________________________________________________\n",
            " Layer (type)                Output Shape              Param #   \n",
            "=================================================================\n",
            " input_1 (InputLayer)        [(None, 224, 224, 3)]     0         \n",
            "                                                                 \n",
            " block1_conv1 (Conv2D)       (None, 224, 224, 64)      1792      \n",
            "                                                                 \n",
            " block1_conv2 (Conv2D)       (None, 224, 224, 64)      36928     \n",
            "                                                                 \n",
            " block1_pool (MaxPooling2D)  (None, 112, 112, 64)      0         \n",
            "                                                                 \n",
            " block2_conv1 (Conv2D)       (None, 112, 112, 128)     73856     \n",
            "                                                                 \n",
            " block2_conv2 (Conv2D)       (None, 112, 112, 128)     147584    \n",
            "                                                                 \n",
            " block2_pool (MaxPooling2D)  (None, 56, 56, 128)       0         \n",
            "                                                                 \n",
            " block3_conv1 (Conv2D)       (None, 56, 56, 256)       295168    \n",
            "                                                                 \n",
            " block3_conv2 (Conv2D)       (None, 56, 56, 256)       590080    \n",
            "                                                                 \n",
            " block3_conv3 (Conv2D)       (None, 56, 56, 256)       590080    \n",
            "                                                                 \n",
            " block3_pool (MaxPooling2D)  (None, 28, 28, 256)       0         \n",
            "                                                                 \n",
            " block4_conv1 (Conv2D)       (None, 28, 28, 512)       1180160   \n",
            "                                                                 \n",
            " block4_conv2 (Conv2D)       (None, 28, 28, 512)       2359808   \n",
            "                                                                 \n",
            " block4_conv3 (Conv2D)       (None, 28, 28, 512)       2359808   \n",
            "                                                                 \n",
            " block4_pool (MaxPooling2D)  (None, 14, 14, 512)       0         \n",
            "                                                                 \n",
            " block5_conv1 (Conv2D)       (None, 14, 14, 512)       2359808   \n",
            "                                                                 \n",
            " block5_conv2 (Conv2D)       (None, 14, 14, 512)       2359808   \n",
            "                                                                 \n",
            " block5_conv3 (Conv2D)       (None, 14, 14, 512)       2359808   \n",
            "                                                                 \n",
            " block5_pool (MaxPooling2D)  (None, 7, 7, 512)         0         \n",
            "                                                                 \n",
            "=================================================================\n",
            "Total params: 14714688 (56.13 MB)\n",
            "Trainable params: 0 (0.00 Byte)\n",
            "Non-trainable params: 14714688 (56.13 MB)\n",
            "_________________________________________________________________\n"
          ]
        }
      ],
      "source": [
        "vgg16.summary()"
      ]
    },
    {
      "cell_type": "code",
      "execution_count": null,
      "metadata": {
        "id": "eVXo3vPlNxXf"
      },
      "outputs": [],
      "source": [
        "folder=glob(\"training_set/*\")"
      ]
    },
    {
      "cell_type": "code",
      "execution_count": null,
      "metadata": {
        "colab": {
          "base_uri": "https://localhost:8080/"
        },
        "id": "fQ9g5sgcOTIZ",
        "outputId": "6c1cfbc3-4770-49f3-bba9-6051720cc344"
      },
      "outputs": [
        {
          "output_type": "execute_result",
          "data": {
            "text/plain": [
              "['training_set/cats', 'training_set/dogs']"
            ]
          },
          "metadata": {},
          "execution_count": 18
        }
      ],
      "source": [
        "folder"
      ]
    },
    {
      "cell_type": "code",
      "execution_count": null,
      "metadata": {
        "colab": {
          "base_uri": "https://localhost:8080/"
        },
        "id": "eZGbz4ElOUzA",
        "outputId": "757fe21e-6859-43b2-fa00-6729f44c747b"
      },
      "outputs": [
        {
          "output_type": "execute_result",
          "data": {
            "text/plain": [
              "2"
            ]
          },
          "metadata": {},
          "execution_count": 19
        }
      ],
      "source": [
        "len(folder)"
      ]
    },
    {
      "cell_type": "code",
      "execution_count": null,
      "metadata": {
        "id": "aEzHfeL0OYZ8"
      },
      "outputs": [],
      "source": [
        "#adding custom layer dense layer"
      ]
    },
    {
      "cell_type": "code",
      "execution_count": null,
      "metadata": {
        "id": "lNQi61okOds1"
      },
      "outputs": [],
      "source": [
        "model=Sequential()\n",
        "model.add(vgg16)\n",
        "model.add(Flatten())\n",
        "model.add(Dense(256,activation=\"relu\"))\n",
        "model.add(Dense(2,activation=\"softmax\"))\n",
        "\n",
        "\n"
      ]
    },
    {
      "cell_type": "code",
      "execution_count": null,
      "metadata": {
        "id": "8-ZS9Ng-PW8M"
      },
      "outputs": [],
      "source": [
        "model.compile(\n",
        "    loss=\"categorical_crossentropy\",\n",
        "    optimizer=\"adam\",\n",
        "    metrics=['accuracy']\n",
        "\n",
        ")"
      ]
    },
    {
      "cell_type": "code",
      "execution_count": null,
      "metadata": {
        "id": "l7uZYzvpP-5_"
      },
      "outputs": [],
      "source": [
        "train_datagen=ImageDataGenerator(\n",
        "    rescale=1./255,\n",
        "    shear_range=0.2,\n",
        "    zoom_range=0.2,\n",
        "    horizontal_flip=True,\n",
        ")\n",
        "\n",
        "test_datagen=ImageDataGenerator(\n",
        "    rescale=1./255)"
      ]
    },
    {
      "cell_type": "code",
      "execution_count": null,
      "metadata": {
        "colab": {
          "base_uri": "https://localhost:8080/"
        },
        "id": "bixkABOaRhkF",
        "outputId": "f887aab6-bb09-4b96-f513-17502d33170a"
      },
      "outputs": [
        {
          "output_type": "stream",
          "name": "stdout",
          "text": [
            "Found 2320 images belonging to 2 classes.\n"
          ]
        }
      ],
      "source": [
        "training_set=train_datagen.flow_from_directory(\n",
        "    \"training_set\",\n",
        "    target_size=(224,224),\n",
        "    batch_size=32,\n",
        "    class_mode='categorical'\n",
        "    )"
      ]
    },
    {
      "cell_type": "code",
      "execution_count": null,
      "metadata": {
        "colab": {
          "base_uri": "https://localhost:8080/"
        },
        "id": "GQiCfViYSoUc",
        "outputId": "8e8714a4-10d5-4b21-97a7-d3f8c12c4d31"
      },
      "outputs": [
        {
          "output_type": "stream",
          "name": "stdout",
          "text": [
            "Found 2000 images belonging to 2 classes.\n"
          ]
        }
      ],
      "source": [
        "testing_set=train_datagen.flow_from_directory(\n",
        "    \"test_set\",\n",
        "    target_size=(224,224),\n",
        "    batch_size=32,\n",
        "    class_mode='categorical'\n",
        "    )"
      ]
    },
    {
      "cell_type": "code",
      "execution_count": null,
      "metadata": {
        "colab": {
          "base_uri": "https://localhost:8080/"
        },
        "id": "isIiVYohTMMp",
        "outputId": "4ee5ce98-d3a3-4cf3-f58a-9a6e7c9ed990"
      },
      "outputs": [
        {
          "output_type": "stream",
          "name": "stdout",
          "text": [
            "Epoch 1/2\n",
            "73/73 [==============================] - 861s 12s/step - loss: 0.8491 - accuracy: 0.7853 - val_loss: 0.2657 - val_accuracy: 0.8840\n",
            "Epoch 2/2\n",
            "73/73 [==============================] - 68s 933ms/step - loss: 0.1965 - accuracy: 0.9138 - val_loss: 0.4322 - val_accuracy: 0.7960\n"
          ]
        }
      ],
      "source": [
        "\n",
        "history = model.fit(\n",
        "    training_set,\n",
        "    epochs=2,\n",
        "    steps_per_epoch=len(training_set),\n",
        "    validation_data=testing_set,\n",
        "    validation_steps=len(testing_set)\n",
        ")\n"
      ]
    },
    {
      "cell_type": "code",
      "source": [
        "history.history"
      ],
      "metadata": {
        "colab": {
          "base_uri": "https://localhost:8080/"
        },
        "id": "zFKs3sQpck-M",
        "outputId": "2fa7d181-bf07-411c-ddfc-24e46efa30cb"
      },
      "execution_count": null,
      "outputs": [
        {
          "output_type": "execute_result",
          "data": {
            "text/plain": [
              "{'loss': [0.8490974307060242, 0.19647860527038574],\n",
              " 'accuracy': [0.7853448390960693, 0.9137930870056152],\n",
              " 'val_loss': [0.26570528745651245, 0.4322499632835388],\n",
              " 'val_accuracy': [0.8840000033378601, 0.7960000038146973]}"
            ]
          },
          "metadata": {},
          "execution_count": 29
        }
      ]
    },
    {
      "cell_type": "code",
      "execution_count": null,
      "metadata": {
        "id": "GRrRzBv1UN4T",
        "colab": {
          "base_uri": "https://localhost:8080/",
          "height": 447
        },
        "outputId": "9f3ce19c-0b5c-445a-9d12-b6244804b01d"
      },
      "outputs": [
        {
          "output_type": "display_data",
          "data": {
            "text/plain": [
              "<Figure size 640x480 with 1 Axes>"
            ],
            "image/png": "[encoded data removed]"
          },
          "metadata": {}
        },
        {
          "output_type": "display_data",
          "data": {
            "text/plain": [
              "<Figure size 640x480 with 0 Axes>"
            ]
          },
          "metadata": {}
        }
      ],
      "source": [
        "import matplotlib.pyplot as plt\n",
        "plt.plot(history.history['loss'],label=' train loss')\n",
        "plt.plot(history.history['val_loss'],label='val_loss')\n",
        "plt.legend()\n",
        "plt.show()\n"
      ]
    },
    {
      "cell_type": "code",
      "source": [
        "import matplotlib.pyplot as plt\n",
        "plt.plot(history.history['accuracy'],label=' train accuracy')\n",
        "plt.plot(history.history['val_accuracy'],label='val_accuracy')\n",
        "plt.legend()\n",
        "plt.show()\n",
        "plt.savefig(\"accuracy graph\")"
      ],
      "metadata": {
        "colab": {
          "base_uri": "https://localhost:8080/",
          "height": 452
        },
        "id": "k3pJcIGHdAX_",
        "outputId": "410d62ff-9cad-4597-ae96-235d043a82fa"
      },
      "execution_count": null,
      "outputs": [
        {
          "output_type": "display_data",
          "data": {
            "text/plain": [
              "<Figure size 640x480 with 1 Axes>"
            ],
            "image/png": "[encoded data removed]"
          },
          "metadata": {}
        },
        {
          "output_type": "display_data",
          "data": {
            "text/plain": [
              "<Figure size 640x480 with 0 Axes>"
            ]
          },
          "metadata": {}
        }
      ]
    },
    {
      "cell_type": "code",
      "source": [
        "model.save(\"moddel_vgg16.h5\")"
      ],
      "metadata": {
        "colab": {
          "base_uri": "https://localhost:8080/"
        },
        "id": "tfBlzlH7d530",
        "outputId": "c1c854d1-2e82-4c0a-f901-edaefd177124"
      },
      "execution_count": null,
      "outputs": [
        {
          "output_type": "stream",
          "name": "stderr",
          "text": [
            "/usr/local/lib/python3.10/dist-packages/keras/src/engine/training.py:3103: UserWarning: You are saving your model as an HDF5 file via `model.save()`. This file format is considered legacy. We recommend using instead the native Keras format, e.g. `model.save('my_model.keras')`.\n",
            "  saving_api.save_model(\n"
          ]
        }
      ]
    },
    {
      "cell_type": "code",
      "source": [
        "from tensorflow.keras.models import load_model\n",
        "\n",
        "model=load_model('moddel_vgg16.h5')"
      ],
      "metadata": {
        "id": "RN7uGQmReHRQ"
      },
      "execution_count": null,
      "outputs": []
    },
    {
      "cell_type": "code",
      "source": [
        "%ls"
      ],
      "metadata": {
        "colab": {
          "base_uri": "https://localhost:8080/"
        },
        "id": "njaNex4qgKcp",
        "outputId": "b4511a51-c12b-40f8-a531-efe7ec2a21d1"
      },
      "execution_count": null,
      "outputs": [
        {
          "output_type": "stream",
          "name": "stdout",
          "text": [
            "'accuracy graph.png'  'loss graph.png'   moddel_vgg16.h5   \u001b[0m\u001b[01;34mtest_set\u001b[0m/   \u001b[01;34mtraining_set\u001b[0m/\n"
          ]
        }
      ]
    },
    {
      "cell_type": "code",
      "source": [
        "y_predict=model.predict(testing_set)"
      ],
      "metadata": {
        "colab": {
          "base_uri": "https://localhost:8080/"
        },
        "id": "F1MtPjUFfelr",
        "outputId": "6bcb8fc4-e960-46e2-d458-3e6d70b82847"
      },
      "execution_count": null,
      "outputs": [
        {
          "output_type": "stream",
          "name": "stdout",
          "text": [
            "63/63 [==============================] - 31s 500ms/step\n"
          ]
        }
      ]
    },
    {
      "cell_type": "code",
      "source": [
        "y_predict"
      ],
      "metadata": {
        "colab": {
          "base_uri": "https://localhost:8080/"
        },
        "id": "betVLmhYf47B",
        "outputId": "548c3e79-6b53-4ecd-d0da-8cc6ff4c3812"
      },
      "execution_count": null,
      "outputs": [
        {
          "output_type": "execute_result",
          "data": {
            "text/plain": [
              "array([[0.6973272 , 0.30267283],\n",
              "       [0.00116784, 0.99883217],\n",
              "       [0.90895396, 0.09104605],\n",
              "       ...,\n",
              "       [0.69524217, 0.3047578 ],\n",
              "       [0.23733416, 0.7626658 ],\n",
              "       [0.3416543 , 0.6583457 ]], dtype=float32)"
            ]
          },
          "metadata": {},
          "execution_count": 49
        }
      ]
    },
    {
      "cell_type": "code",
      "source": [
        "y_pred=np.argmax(y_predict,axis=1)"
      ],
      "metadata": {
        "id": "zDnXfBC_gla4"
      },
      "execution_count": null,
      "outputs": []
    },
    {
      "cell_type": "code",
      "source": [
        "y_pred"
      ],
      "metadata": {
        "id": "VkuWIYHigw58",
        "outputId": "d143da0d-92c2-4805-d0f0-863c3fa75af8",
        "colab": {
          "base_uri": "https://localhost:8080/"
        }
      },
      "execution_count": null,
      "outputs": [
        {
          "output_type": "execute_result",
          "data": {
            "text/plain": [
              "array([0, 1, 0, ..., 0, 1, 1])"
            ]
          },
          "metadata": {},
          "execution_count": 51
        }
      ]
    },
    {
      "cell_type": "code",
      "source": [],
      "metadata": {
        "id": "Qoo4mmU0gzRK"
      },
      "execution_count": null,
      "outputs": []
    }
  ],
  "metadata": {
    "accelerator": "GPU",
    "colab": {
      "gpuType": "T4",
      "provenance": [],
      "mount_file_id": "1FEOoZTFhtu-U4CmM7JBobkIIamjZrd0y",
      "authorship_tag": "ABX9TyO1XKlhpBukN2MpTz62TbKW",
      "include_colab_link": true
    },
    "kernelspec": {
      "display_name": "Python 3",
      "name": "python3"
    },
    "language_info": {
      "name": "python"
    }
  },
  "nbformat": 4,
  "nbformat_minor": 0
}